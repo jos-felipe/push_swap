{
 "cells": [
  {
   "cell_type": "code",
   "execution_count": 26,
   "metadata": {},
   "outputs": [
    {
     "name": "stdout",
     "output_type": "stream",
     "text": [
      "<class 'str'>\n",
      "[1, 2, 3, 4, 'abc', 6, 7, 8, 9, 10]\n"
     ]
    }
   ],
   "source": [
    "ordered_list = list(range(1, 11, 1))\n",
    "\n",
    "string_on_list = ordered_list\n",
    "string_on_list[4] = \"abc\"\n",
    "\n",
    "print(type(str(ordered_list)))\n",
    "print(string_on_list)"
   ]
  },
  {
   "cell_type": "code",
   "execution_count": 40,
   "metadata": {},
   "outputs": [
    {
     "name": "stdout",
     "output_type": "stream",
     "text": [
      "[../push_swap1../push_swap,../push_swap ../push_swap2../push_swap,../push_swap ../push_swap3../push_swap,../push_swap ../push_swap4../push_swap,../push_swap ../push_swap5../push_swap,../push_swap ../push_swap6../push_swap,../push_swap ../push_swap7../push_swap,../push_swap ../push_swap8../push_swap,../push_swap ../push_swap9../push_swap,../push_swap ../push_swap1../push_swap0../push_swap]\n",
      "[../push_swap1../push_swap,../push_swap ../push_swap2../push_swap,../push_swap ../push_swap3../push_swap,../push_swap ../push_swap4../push_swap,../push_swap ../push_swap5../push_swap,../push_swap ../push_swap6../push_swap,../push_swap ../push_swap7../push_swap,../push_swap ../push_swap8../push_swap,../push_swap ../push_swap9../push_swap,../push_swap ../push_swap1../push_swap0../push_swap]\n"
     ]
    }
   ],
   "source": [
    "import subprocess\n",
    "command = \"../push_swap\"\n",
    "ordered_list = str(list(range(1, 11, 1)))\n",
    "\n",
    "string_on_list = str(list(range(1, 11, 1)))\n",
    "#print(string_on_list[4])\n",
    "\n",
    "args = [ordered_list, string_on_list]\n",
    "\n",
    "for arg in args:\n",
    "\t_args = command.join(arg)\n",
    "\tprint(_args)\n",
    "\t# subprocess.run(command, arg, stdout=subprocess.PIPE, stderr=subprocess.PIPE)"
   ]
  },
  {
   "cell_type": "code",
   "execution_count": 78,
   "metadata": {},
   "outputs": [
    {
     "name": "stdout",
     "output_type": "stream",
     "text": [
      "[b'', b'Error\\n', b'Error\\n', b'Error\\n', b'Error\\n', b'']\n",
      "[b'', b'', b'', b'', b'', b'']\n",
      "1. OK\n",
      "\n",
      "b'' b''\n",
      "2. OK\n",
      "\n",
      "b'' b''\n",
      "3. OK\n",
      "\n",
      "b'' b''\n",
      "4. OK\n",
      "\n",
      "b'' b''\n",
      "5. OK\n",
      "\n",
      "b'' b''\n",
      "6. OK\n",
      "\n",
      "b'' b''\n"
     ]
    }
   ],
   "source": [
    "import subprocess\n",
    "\n",
    "int_max = (2**31) - 1\n",
    "int_min = -(2**31)\n",
    "cmd0 = \"../push_swap\"\n",
    "\n",
    "ordered_list = []\n",
    "ordered_range = range(1, 11, 1)\n",
    "for n in ordered_range:\n",
    "\tordered_list.append(str(n))\n",
    "\n",
    "str_on_list = ordered_list[:]\n",
    "dup_on_list = ordered_list[:]\n",
    "min_on_list = ordered_list[:]\n",
    "max_on_list = ordered_list[:]\n",
    "nothing_on_list = []\n",
    "str_on_list[4] = \"abc\"\n",
    "dup_on_list[9] = \"1\" \n",
    "min_on_list[4] = str(int_min - 1)\n",
    "max_on_list[4] = str(int_max + 1)\n",
    "\n",
    "stdout_list = []\n",
    "stderr_list = []\n",
    "args = [ordered_list, str_on_list, dup_on_list, min_on_list, max_on_list, nothing_on_list]\n",
    "stderr_ref_list = [\"b''\", \"b'Error\\n'\", \"b'Error\\n'\", \"b'Error\\n'\", \"b'Error\\n'\", \"b''\"]\n",
    "stdout_ref_list = [\"b''\", \"b''\", \"b''\", \"b''\", \"b''\", \"b''\"]\n",
    "for arg in args:\n",
    "\targ.insert(0, cmd0)\n",
    "\toutput = subprocess.run(arg, stdout=subprocess.PIPE, stderr=subprocess.PIPE)\n",
    "\tstderr_list.append(output.stderr)\n",
    "\tstdout_list.append(output.stdout)\n",
    "\n",
    "print(stderr_list)\n",
    "print(stdout_list)\n",
    "\n",
    "i = 0\n",
    "for out, err in zip(stdout_list, stderr_list):\n",
    "\tif (str(out) == str(stdout_ref_list[i])):\n",
    "\t\tprint(f\"{i + 1}. OK\\n\")\n",
    "\telse:\n",
    "\t\tprint(f\"{i + 1}. KO\\n\")\n",
    "\tprint(out, stdout_ref_list[i])\n",
    "\ti = i + 1"
   ]
  },
  {
   "cell_type": "code",
   "execution_count": null,
   "metadata": {},
   "outputs": [],
   "source": [
    "str_on_list.insert(0, cmd0)\n",
    "print(str_on_list)"
   ]
  }
 ],
 "metadata": {
  "kernelspec": {
   "display_name": "Python 3",
   "language": "python",
   "name": "python3"
  },
  "language_info": {
   "codemirror_mode": {
    "name": "ipython",
    "version": 3
   },
   "file_extension": ".py",
   "mimetype": "text/x-python",
   "name": "python",
   "nbconvert_exporter": "python",
   "pygments_lexer": "ipython3",
   "version": "3.8.10"
  }
 },
 "nbformat": 4,
 "nbformat_minor": 2
}
