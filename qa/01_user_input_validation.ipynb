{
 "cells": [
  {
   "cell_type": "code",
   "execution_count": 26,
   "metadata": {},
   "outputs": [
    {
     "name": "stdout",
     "output_type": "stream",
     "text": [
      "<class 'str'>\n",
      "[1, 2, 3, 4, 'abc', 6, 7, 8, 9, 10]\n"
     ]
    }
   ],
   "source": [
    "ordered_list = list(range(1, 11, 1))\n",
    "\n",
    "string_on_list = ordered_list\n",
    "string_on_list[4] = \"abc\"\n",
    "\n",
    "print(type(str(ordered_list)))\n",
    "print(string_on_list)"
   ]
  },
  {
   "cell_type": "code",
   "execution_count": 40,
   "metadata": {},
   "outputs": [
    {
     "name": "stdout",
     "output_type": "stream",
     "text": [
      "[../push_swap1../push_swap,../push_swap ../push_swap2../push_swap,../push_swap ../push_swap3../push_swap,../push_swap ../push_swap4../push_swap,../push_swap ../push_swap5../push_swap,../push_swap ../push_swap6../push_swap,../push_swap ../push_swap7../push_swap,../push_swap ../push_swap8../push_swap,../push_swap ../push_swap9../push_swap,../push_swap ../push_swap1../push_swap0../push_swap]\n",
      "[../push_swap1../push_swap,../push_swap ../push_swap2../push_swap,../push_swap ../push_swap3../push_swap,../push_swap ../push_swap4../push_swap,../push_swap ../push_swap5../push_swap,../push_swap ../push_swap6../push_swap,../push_swap ../push_swap7../push_swap,../push_swap ../push_swap8../push_swap,../push_swap ../push_swap9../push_swap,../push_swap ../push_swap1../push_swap0../push_swap]\n"
     ]
    }
   ],
   "source": [
    "import subprocess\n",
    "command = \"../push_swap\"\n",
    "ordered_list = str(list(range(1, 11, 1)))\n",
    "\n",
    "string_on_list = str(list(range(1, 11, 1)))\n",
    "#print(string_on_list[4])\n",
    "\n",
    "args = [ordered_list, string_on_list]\n",
    "\n",
    "for arg in args:\n",
    "\t_args = command.join(arg)\n",
    "\tprint(_args)\n",
    "\t# subprocess.run(command, arg, stdout=subprocess.PIPE, stderr=subprocess.PIPE)"
   ]
  },
  {
   "cell_type": "code",
   "execution_count": 53,
   "metadata": {},
   "outputs": [
    {
     "name": "stdout",
     "output_type": "stream",
     "text": [
      "range(1, 11)\n",
      "['1', '2', '3', '4', '5', '6', '7', '8', '9', '10']\n",
      "['1', '2', '3', '4', 'abc', '6', '7', '8', '9', '10']\n",
      "['1', '2', '3', '4', '5', '6', '7', '8', '9', '1']\n",
      "['1', '2', '3', '4', '-2147483649', '6', '7', '8', '9', '10']\n",
      "['1', '2', '3', '4', '2147483648', '6', '7', '8', '9', '10']\n",
      "[]\n"
     ]
    }
   ],
   "source": [
    "int_max = (2**31) - 1\n",
    "int_min = -(2**31)\n",
    "\n",
    "ordered_list = []\n",
    "ordered_range = range(1, 11, 1)\n",
    "print(ordered_range)\n",
    "for n in ordered_range:\n",
    "\tordered_list.append(str(n))\n",
    "\n",
    "str_on_list = ordered_list[:]\n",
    "dup_on_list = ordered_list[:]\n",
    "min_on_list = ordered_list[:]\n",
    "max_on_list = ordered_list[:]\n",
    "nothing_on_list = []\n",
    "str_on_list[4] = \"abc\"\n",
    "dup_on_list[9] = \"1\" \n",
    "min_on_list[4] = str(int_min - 1)\n",
    "max_on_list[4] = str(int_max + 1)\n",
    "\n",
    "\n",
    "print(ordered_list)\n",
    "print(str_on_list)\n",
    "print(dup_on_list)\n",
    "print(min_on_list)\n",
    "print(max_on_list)\n",
    "print(nothing_on_list)"
   ]
  },
  {
   "cell_type": "code",
   "execution_count": 51,
   "metadata": {},
   "outputs": [
    {
     "data": {
      "text/plain": [
       "2147483647"
      ]
     },
     "execution_count": 51,
     "metadata": {},
     "output_type": "execute_result"
    }
   ],
   "source": [
    "\n"
   ]
  },
  {
   "cell_type": "code",
   "execution_count": null,
   "metadata": {},
   "outputs": [],
   "source": []
  }
 ],
 "metadata": {
  "kernelspec": {
   "display_name": "Python 3",
   "language": "python",
   "name": "python3"
  },
  "language_info": {
   "codemirror_mode": {
    "name": "ipython",
    "version": 3
   },
   "file_extension": ".py",
   "mimetype": "text/x-python",
   "name": "python",
   "nbconvert_exporter": "python",
   "pygments_lexer": "ipython3",
   "version": "3.8.10"
  }
 },
 "nbformat": 4,
 "nbformat_minor": 2
}
