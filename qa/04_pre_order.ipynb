{
 "cells": [
  {
   "cell_type": "code",
   "execution_count": 2,
   "metadata": {},
   "outputs": [
    {
     "name": "stdout",
     "output_type": "stream",
     "text": [
      "Sorted list\n",
      "\u001b[32;1m1. OK\u001b[0m\n",
      "Unsorted list\n",
      "\u001b[31;1m2. KO\u001b[0m\n"
     ]
    }
   ],
   "source": [
    "import subprocess\n",
    "\n",
    "program = [\"../push_swap\"]\n",
    "valgrind = [\"valgrind\", \"--leak-check=full\", \"--show-leak-kinds=all\", \"--track-origins=yes\"]\n",
    "valgrind_check = \"All heap blocks were freed -- no leaks are possible\"\n",
    "\n",
    "# Colors Definition \n",
    "GREEN = \"\\033[32;1m\"\n",
    "RED = \"\\033[31;1m\"\n",
    "CYAN = \"\\033[36;1;3;208m\"\n",
    "WHITE = \"\\033[37;1;4m\"\n",
    "COLOR_LIMITER = \"\\033[0m\"\n",
    "\n",
    "# Creating args\n",
    "battery = [\"sorted_list\", \"unsorted_list\"]\n",
    "sorted_list = []\n",
    "sorted_range = range(0, 10, 1)\n",
    "for n in sorted_range:\n",
    "\tsorted_list.append(str(n))\n",
    "unsorted_list = [\"4\", \"0\", \"1\", \"9\", \"6\", \"2\", \"8\", \"5\", \"7\", \"3\"]\n",
    "# print(sorted_list)\n",
    "# print(unsorted_list)\n",
    "args = [sorted_list, unsorted_list]\n",
    "\n",
    "# Reference output\n",
    "stdout_ref_sorted = \"\"\n",
    "stdout_ref_unsorted = \"2 8 5 7 3 4 0 1 \\n6 9 \\n4 0 1 \\n3 7 5 8 2 6 9 \\n0 1 4 \\n\"\n",
    "\n",
    "# Runing and colecting output and error\n",
    "cmd1 = program + sorted_list\n",
    "cmd2 = program + unsorted_list\n",
    "# print (cmd1)\n",
    "output_sorted = subprocess.run(cmd1, stdout=subprocess.PIPE, text=True)\n",
    "output_unsorted = subprocess.run(cmd2, stdout=subprocess.PIPE, text=True)\n",
    "ouput1 = output_sorted.stdout\n",
    "ouput2 = output_unsorted.stdout\n",
    "print(\"Sorted list\")\n",
    "if (ouput1 == stdout_ref_sorted):\n",
    "\tprint(GREEN + \"1. OK\" + COLOR_LIMITER)\n",
    "else:\n",
    "\tprint(RED + \"1. KO\" + COLOR_LIMITER)\n",
    "print(\"Unsorted list\")\n",
    "if (ouput2 == stdout_ref_unsorted):\n",
    "\tprint(GREEN + \"2. OK\" + COLOR_LIMITER)\n",
    "else:\n",
    "\tprint(RED + \"2. KO\" + COLOR_LIMITER)\n",
    "# stdout_list = []\n",
    "# stderr_list = []\n",
    "# stderr_val_list = []\n",
    "# for arg in args:\n",
    "# \tprint(arg)\n",
    "# \t#arg.insert(0, program)\n",
    "# \tcmd = program + arg\n",
    "# \tprint(cmd)\n",
    "# \tcmd_2 = valgrind + cmd\n",
    "# \tprint(cmd_2)"
   ]
  },
  {
   "cell_type": "code",
   "execution_count": null,
   "metadata": {},
   "outputs": [],
   "source": []
  }
 ],
 "metadata": {
  "kernelspec": {
   "display_name": "Python 3",
   "language": "python",
   "name": "python3"
  },
  "language_info": {
   "codemirror_mode": {
    "name": "ipython",
    "version": 3
   },
   "file_extension": ".py",
   "mimetype": "text/x-python",
   "name": "python",
   "nbconvert_exporter": "python",
   "pygments_lexer": "ipython3",
   "version": "3.8.10"
  }
 },
 "nbformat": 4,
 "nbformat_minor": 2
}
