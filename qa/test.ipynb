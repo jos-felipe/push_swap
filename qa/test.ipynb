{
 "cells": [
  {
   "cell_type": "code",
   "execution_count": 1,
   "metadata": {},
   "outputs": [
    {
     "name": "stdout",
     "output_type": "stream",
     "text": [
      "ra\n",
      "ra\n",
      "pb\n",
      "ra\n",
      "pb\n",
      "ra\n",
      "ra\n",
      "pb\n",
      "pb\n",
      "ra\n",
      "ra\n",
      "13 5 11 17 15 2 19 \n",
      "0 -5 -3 1 \n",
      "15 2 19 \n",
      "17 11 5 13 0 -5 -3 1 \n",
      "2 15 19 \n",
      "17 11 5 13 0 -5 -3 1 \n",
      "\n"
     ]
    }
   ],
   "source": [
    "stdout_ref_moves =\"ra\\nra\\npb\\nra\\npb\\nra\\nra\\npb\\npb\\nra\\nra\\n\"\n",
    "stdout_ref_sorted_1 = \"13 5 11 17 15 2 19 \\n0 -5 -3 1 \\n\"\n",
    "stdout_ref_sorted_2 = \"15 2 19 \\n17 11 5 13 0 -5 -3 1 \\n\"\n",
    "stdout_ref_sorted_3 = \"2 15 19 \\n17 11 5 13 0 -5 -3 1 \\n\"\n",
    "stdout_ref_unsorted = stdout_ref_moves+ stdout_ref_sorted_1 + stdout_ref_sorted_2 + stdout_ref_sorted_3\n",
    "\n",
    "print(stdout_ref_unsorted)"
   ]
  }
 ],
 "metadata": {
  "kernelspec": {
   "display_name": "Python 3",
   "language": "python",
   "name": "python3"
  },
  "language_info": {
   "codemirror_mode": {
    "name": "ipython",
    "version": 3
   },
   "file_extension": ".py",
   "mimetype": "text/x-python",
   "name": "python",
   "nbconvert_exporter": "python",
   "pygments_lexer": "ipython3",
   "version": "3.8.10"
  }
 },
 "nbformat": 4,
 "nbformat_minor": 2
}
