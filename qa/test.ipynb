{
 "cells": [
  {
   "cell_type": "code",
   "execution_count": 1,
   "metadata": {},
   "outputs": [],
   "source": [
    "import subprocess\n",
    "\n",
    "def pre_sort(program, valgrind, valgrind_check, colours):\n",
    "\n",
    "\t# Creating args\n",
    "\targ = [\"13\", \"5\", \"1\", \"11\", \"-3\", \"17\", \"15\", \"-5\", \"0\", \"2\", \"19\"]\n",
    "\t\n",
    "\t# Reference output\n",
    "\tstdout_ref = \"2 1 1 1 0 0 0 0 \\n\"\n",
    "\t\n",
    "\t# Runing and colecting output and error\n",
    "\tcmd = program + arg\n",
    "\toutput = subprocess.run(cmd, stdout=subprocess.PIPE, text=True)\n",
    "\toutput = output.stdout\n",
    "\t\n",
    "\tcmd_val = valgrind + cmd\n",
    "\toutput_val = subprocess.run(cmd_val, stdout=subprocess.PIPE, stderr=subprocess.PIPE, text=True)\n",
    "\terr_val = output_val.stderr\n",
    "\t\n",
    "\t#Creating test name\n",
    "\ttest_name = \"Target position\"\n",
    "\t\n",
    "\t# Check Ref with output\n",
    "\tprint(test_name)\n",
    "\tif (output == stdout_ref):\n",
    "\t\tprint(colours[0] + \"1. OK\" + colours[2])\n",
    "\telse:\n",
    "\t\tprint(colours[1] + \"1. KO\" + colours[2])\n",
    "\tif valgrind_check in err_val:\n",
    "\t\tprint(f\"{colours[0]}   MOK{colours[2]}\")\n",
    "\telse:\n",
    "\t\tprint(f\"{colours[1]}   MKO{colours[2]}\")"
   ]
  },
  {
   "cell_type": "code",
   "execution_count": null,
   "metadata": {},
   "outputs": [],
   "source": [
    "# Constant args\n",
    "program = [\"../push_swap\"]\n",
    "valgrind = [\"valgrind\", \"--leak-check=full\", \"--show-leak-kinds=all\", \"--track-origins=yes\"]\n",
    "valgrind_check = \"All heap blocks were freed -- no leaks are possible\"\n",
    "\n",
    "# Creating args\n",
    "arg = [\"13\", \"5\", \"1\", \"11\", \"-3\", \"17\", \"15\", \"-5\", \"0\", \"2\", \"19\"]\n",
    "\n",
    "# Reference output\n",
    "stdout_ref = \"2 1 1 1 0 0 0 0 \\n\"\n",
    "\n",
    "# Runing and colecting output and error\n",
    "cmd = program + arg\n",
    "output = subprocess.run(cmd, stdout=subprocess.PIPE, text=True)\n",
    "output = output.stdout\n",
    "\n",
    "cmd_val = valgrind + cmd\n",
    "output_val = subprocess.run(cmd_val, stdout=subprocess.PIPE, stderr=subprocess.PIPE, text=True)\n",
    "err_val = output_val.stderr\n",
    "\n",
    "#Creating test name\n",
    "test_name = \"Target position\"\n",
    "\n",
    "# Check Ref with output\n",
    "print(test_name)\n",
    "if (output == stdout_ref):\n",
    "\tprint(colours[0] + \"1. OK\" + colours[2])\n",
    "else:\n",
    "\tprint(colours[1] + \"1. KO\" + colours[2])\n",
    "if valgrind_check in err_val:\n",
    "\tprint(f\"{colours[0]}   MOK{colours[2]}\")\n",
    "else:\n",
    "\tprint(f\"{colours[1]}   MKO{colours[2]}\")"
   ]
  },
  {
   "cell_type": "code",
   "execution_count": 1,
   "metadata": {},
   "outputs": [
    {
     "name": "stdout",
     "output_type": "stream",
     "text": [
      "ra\n",
      "ra\n",
      "pb\n",
      "ra\n",
      "pb\n",
      "ra\n",
      "ra\n",
      "pb\n",
      "pb\n",
      "ra\n",
      "ra\n",
      "pb\n",
      "pb\n",
      "pb\n",
      "pb\n",
      "sa\n",
      "2 1 1 1 0 0 0 0 \n",
      "\n"
     ]
    }
   ],
   "source": [
    "stdout_ref_moves =\"ra\\nra\\npb\\nra\\npb\\nra\\nra\\npb\\npb\\nra\\nra\\npb\\npb\\npb\\npb\\nsa\\n\"\n",
    "stdout_ref = stdout_ref_moves + \"2 1 1 1 0 0 0 0 \\n\"\n",
    "print(stdout_ref)"
   ]
  }
 ],
 "metadata": {
  "kernelspec": {
   "display_name": "Python 3",
   "language": "python",
   "name": "python3"
  },
  "language_info": {
   "codemirror_mode": {
    "name": "ipython",
    "version": 3
   },
   "file_extension": ".py",
   "mimetype": "text/x-python",
   "name": "python",
   "nbconvert_exporter": "python",
   "pygments_lexer": "ipython3",
   "version": "3.8.10"
  }
 },
 "nbformat": 4,
 "nbformat_minor": 2
}
