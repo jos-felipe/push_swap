{
 "cells": [
  {
   "cell_type": "code",
   "execution_count": 4,
   "metadata": {},
   "outputs": [
    {
     "name": "stdout",
     "output_type": "stream",
     "text": [
      "['-1', '0', '1', '2', '3', '4', '5', '6', '7', '8', '9', '10']\n",
      "['../push_swap', '-1', '0', '1', '2', '3', '4', '5', '6', '7', '8', '9', '10']\n",
      "['valgrind', '--leak-check=full', '--show-leak-kinds=all', '--track-origins=yes', '../push_swap', '-1', '0', '1', '2', '3', '4', '5', '6', '7', '8', '9', '10']\n",
      "['-1', '0', '1', '2', 'abc', '4', '5', '6', '7', '8', '9', '10']\n",
      "['../push_swap', '-1', '0', '1', '2', 'abc', '4', '5', '6', '7', '8', '9', '10']\n",
      "['valgrind', '--leak-check=full', '--show-leak-kinds=all', '--track-origins=yes', '../push_swap', '-1', '0', '1', '2', 'abc', '4', '5', '6', '7', '8', '9', '10']\n",
      "['-1', '0', '1', '2', '3', '4', '5', '6', '7', '1', '9', '10']\n",
      "['../push_swap', '-1', '0', '1', '2', '3', '4', '5', '6', '7', '1', '9', '10']\n",
      "['valgrind', '--leak-check=full', '--show-leak-kinds=all', '--track-origins=yes', '../push_swap', '-1', '0', '1', '2', '3', '4', '5', '6', '7', '1', '9', '10']\n",
      "['-1', '0', '1', '2', '-2147483649', '4', '5', '6', '7', '8', '9', '10']\n",
      "['../push_swap', '-1', '0', '1', '2', '-2147483649', '4', '5', '6', '7', '8', '9', '10']\n",
      "['valgrind', '--leak-check=full', '--show-leak-kinds=all', '--track-origins=yes', '../push_swap', '-1', '0', '1', '2', '-2147483649', '4', '5', '6', '7', '8', '9', '10']\n",
      "['-1', '0', '1', '2', '2147483648', '4', '5', '6', '7', '8', '9', '10']\n",
      "['../push_swap', '-1', '0', '1', '2', '2147483648', '4', '5', '6', '7', '8', '9', '10']\n",
      "['valgrind', '--leak-check=full', '--show-leak-kinds=all', '--track-origins=yes', '../push_swap', '-1', '0', '1', '2', '2147483648', '4', '5', '6', '7', '8', '9', '10']\n",
      "[]\n",
      "['../push_swap']\n",
      "['valgrind', '--leak-check=full', '--show-leak-kinds=all', '--track-origins=yes', '../push_swap']\n"
     ]
    }
   ],
   "source": [
    "program = [\"../push_swap\"]\n",
    "valgrind = [\"valgrind\", \"--leak-check=full\", \"--show-leak-kinds=all\", \"--track-origins=yes\"]\n",
    "valgrind_check = \"All heap blocks were freed -- no leaks are possible\"\n",
    "\n",
    "# Int min and max\n",
    "int_max = (2**31) - 1\n",
    "int_min = -(2**31)\n",
    "\n",
    "# Colors Definition \n",
    "GREEN = \"\\033[32;1m\"\n",
    "RED = \"\\033[31;1m\"\n",
    "CYAN = \"\\033[36;1;3;208m\"\n",
    "WHITE = \"\\033[37;1;4m\"\n",
    "COLOR_LIMITER = \"\\033[0m\"\n",
    "\n",
    "# Creating args\n",
    "battery = [\"ordered_list\", \"str_on_list\", \"dup_on_list\", \"min_on_list\", \"max_on_list\", \"nothing_on_list\"]\n",
    "ordered_list = []\n",
    "ordered_range = range(-1, 11, 1)\n",
    "for n in ordered_range:\n",
    "\tordered_list.append(str(n))\n",
    "str_on_list = ordered_list[:]\n",
    "dup_on_list = ordered_list[:]\n",
    "min_on_list = ordered_list[:]\n",
    "max_on_list = ordered_list[:]\n",
    "nothing_on_list = []\n",
    "str_on_list[4] = \"abc\"\n",
    "dup_on_list[9] = \"1\" \n",
    "min_on_list[4] = str(int_min - 1)\n",
    "max_on_list[4] = str(int_max + 1)\n",
    "args = [ordered_list, str_on_list, dup_on_list, min_on_list, max_on_list, nothing_on_list]\n",
    "\n",
    "# Reference output\n",
    "stderr_ref_list = [\"\", \"Error\\n\", \"Error\\n\", \"Error\\n\", \"Error\\n\", \"\"]\n",
    "stdout_ref_list = [\"\", \"\", \"\", \"\", \"\", \"\"]\n",
    "\n",
    "# Runing and colecting output and error\n",
    "stdout_list = []\n",
    "stderr_list = []\n",
    "stderr_val_list = []\n",
    "for arg in args:\n",
    "\tprint(arg)\n",
    "\t#arg.insert(0, program)\n",
    "\tcmd = program + arg\n",
    "\tprint(cmd)\n",
    "\tcmd_2 = valgrind + cmd\n",
    "\tprint(cmd_2)"
   ]
  },
  {
   "cell_type": "code",
   "execution_count": null,
   "metadata": {},
   "outputs": [],
   "source": []
  }
 ],
 "metadata": {
  "kernelspec": {
   "display_name": "Python 3",
   "language": "python",
   "name": "python3"
  },
  "language_info": {
   "codemirror_mode": {
    "name": "ipython",
    "version": 3
   },
   "file_extension": ".py",
   "mimetype": "text/x-python",
   "name": "python",
   "nbconvert_exporter": "python",
   "pygments_lexer": "ipython3",
   "version": "3.8.10"
  }
 },
 "nbformat": 4,
 "nbformat_minor": 2
}
