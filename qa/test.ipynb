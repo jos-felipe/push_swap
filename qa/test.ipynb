{
 "cells": [
  {
   "cell_type": "code",
   "execution_count": 1,
   "metadata": {},
   "outputs": [],
   "source": [
    "import subprocess\n",
    "\n",
    "def comp_cost(program, valgrind, valgrind_check, colours):\n",
    "\n",
    "\t# Creating args\n",
    "\targ = [\"13\", \"5\", \"1\", \"11\", \"-3\", \"19\", \"17\", \"15\", \"-5\", \"0\", \"2\"]\n",
    "\t\n",
    "\t# Reference output\n",
    "\tstdout_ref_moves = \"ra\\nra\\npb\\nra\\npb\\nra\\nra\\nra\\npb\\npb\\nra\\npb\\npb\\npb\\npb\\nra\\nsa\\n\"\n",
    "\tstdout_ref_cost = \"[0,0] [1,1] [1,2] [1,3] [0,4] [0,3] [0,2] [0,1] \\n\"\n",
    "\tstdout_ref = stdout_ref_moves + stdout_ref_cost\n",
    "\t\n",
    "\t# Runing and colecting output and error\n",
    "\tcmd = program + arg\n",
    "\toutput = subprocess.run(cmd, stdout=subprocess.PIPE, text=True)\n",
    "\toutput = output.stdout\n",
    "\t\n",
    "\tcmd_val = valgrind + cmd\n",
    "\toutput_val = subprocess.run(cmd_val, stdout=subprocess.PIPE, stderr=subprocess.PIPE, text=True)\n",
    "\terr_val = output_val.stderr\n",
    "\t\n",
    "\t#Creating test name\n",
    "\ttest_name = \"Cost function\"\n",
    "\t\n",
    "\t# Check Ref with output\n",
    "\tprint(test_name)\n",
    "\tif (output == stdout_ref):\n",
    "\t\tprint(colours[0] + \"1. OK\" + colours[2])\n",
    "\telse:\n",
    "\t\tprint(colours[1] + \"1. KO\" + colours[2])\n",
    "\tif valgrind_check in err_val:\n",
    "\t\tprint(f\"{colours[0]}   MOK{colours[2]}\")\n",
    "\telse:\n",
    "\t\tprint(f\"{colours[1]}   MKO{colours[2]}\")"
   ]
  },
  {
   "cell_type": "code",
   "execution_count": 2,
   "metadata": {},
   "outputs": [
    {
     "name": "stdout",
     "output_type": "stream",
     "text": [
      "ra\n",
      "ra\n",
      "pb\n",
      "ra\n",
      "pb\n",
      "ra\n",
      "ra\n",
      "ra\n",
      "pb\n",
      "pb\n",
      "ra\n",
      "pb\n",
      "pb\n",
      "pb\n",
      "pb\n",
      "ra\n",
      "sa\n",
      "[0,0] [1,1] [1,2] [1,3] [0,4] [0,3] [0,2] [0,1] \n",
      "\n"
     ]
    }
   ],
   "source": [
    "stdout_ref_moves = \"ra\\nra\\npb\\nra\\npb\\nra\\nra\\nra\\npb\\npb\\nra\\npb\\npb\\npb\\npb\\nra\\nsa\\n\"\n",
    "stdout_ref_cost = \"[0,0] [1,1] [1,2] [1,3] [0,4] [0,3] [0,2] [0,1] \\n\"\n",
    "stdout_ref = stdout_ref_moves + stdout_ref_cost\n",
    "\n",
    "print(stdout_ref)"
   ]
  }
 ],
 "metadata": {
  "kernelspec": {
   "display_name": "Python 3",
   "language": "python",
   "name": "python3"
  },
  "language_info": {
   "codemirror_mode": {
    "name": "ipython",
    "version": 3
   },
   "file_extension": ".py",
   "mimetype": "text/x-python",
   "name": "python",
   "nbconvert_exporter": "python",
   "pygments_lexer": "ipython3",
   "version": "3.8.10"
  }
 },
 "nbformat": 4,
 "nbformat_minor": 2
}
