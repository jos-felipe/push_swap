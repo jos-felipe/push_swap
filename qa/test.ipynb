{
 "cells": [
  {
   "cell_type": "code",
   "execution_count": 3,
   "metadata": {},
   "outputs": [
    {
     "name": "stdout",
     "output_type": "stream",
     "text": [
      "['../push_swap', '1', '2', '3']\n",
      "['valgrind', '--leak-check=full', '--show-leak-kinds=all', '--track-origins=yes', '../push_swap', '1', '2', '3']\n",
      "['../push_swap', '1', '3', '2']\n",
      "['valgrind', '--leak-check=full', '--show-leak-kinds=all', '--track-origins=yes', '../push_swap', '1', '3', '2']\n",
      "['../push_swap', '2', '1', '3']\n",
      "['valgrind', '--leak-check=full', '--show-leak-kinds=all', '--track-origins=yes', '../push_swap', '2', '1', '3']\n",
      "['../push_swap', '2', '3', '1']\n",
      "['valgrind', '--leak-check=full', '--show-leak-kinds=all', '--track-origins=yes', '../push_swap', '2', '3', '1']\n",
      "['../push_swap', '3', '1', '2']\n",
      "['valgrind', '--leak-check=full', '--show-leak-kinds=all', '--track-origins=yes', '../push_swap', '3', '1', '2']\n",
      "['../push_swap', '3', '2', '1']\n",
      "['valgrind', '--leak-check=full', '--show-leak-kinds=all', '--track-origins=yes', '../push_swap', '3', '2', '1']\n"
     ]
    }
   ],
   "source": [
    "program = [\"../push_swap\"]\n",
    "valgrind = [\"valgrind\", \"--leak-check=full\", \"--show-leak-kinds=all\", \"--track-origins=yes\"]\n",
    "valgrind_check = \"All heap blocks were freed -- no leaks are possible\"\n",
    "\n",
    "all_tiny_sort_args = [[\"1\", \"2\", \"3\"], [\"1\", \"3\", \"2\"], [\"2\", \"1\", \"3\"], [\"2\", \"3\", \"1\"], [\"3\", \"1\", \"2\"], [\"3\", \"2\", \"1\"]]\n",
    "\n",
    "for tiny_sort_arg in all_tiny_sort_args:\n",
    "\tcmd = program + tiny_sort_arg\n",
    "\tprint(cmd)\n",
    "\tcmd_val = valgrind + cmd\n",
    "\tprint(cmd_val)\n"
   ]
  },
  {
   "cell_type": "code",
   "execution_count": 5,
   "metadata": {},
   "outputs": [
    {
     "name": "stdout",
     "output_type": "stream",
     "text": [
      "['Melvin', 'Num', 'Pais', 'Tropical']\n"
     ]
    }
   ],
   "source": [
    "str1 = \"Melvin\"\n",
    "str2 = \"Num\"\n",
    "str3 = \"Pais\"\n",
    "str4 = \"Tropical\"\n",
    "all_str = [str1, str2, str3, str4]\n",
    "\n",
    "all_str_dup = []\n",
    "for str in all_str:\n",
    "\tall_str_dup.append(str)\n",
    "\n",
    "print(all_str_dup)"
   ]
  },
  {
   "cell_type": "code",
   "execution_count": 8,
   "metadata": {},
   "outputs": [
    {
     "name": "stdout",
     "output_type": "stream",
     "text": [
      "['1 2 3 \\n1 2 3\\n', '1 3 2 \\nrra\\nsa\\n1 2 3\\n', '2 1 3 \\nsa\\n1 2 3\\n', '2 3 1 \\nrra\\n1 2 3\\n', '3 1 2 \\nra\\n1 2 3\\n', '3 2 1 \\nra\\nsa\\n1 2 3\\n']\n"
     ]
    }
   ],
   "source": [
    "# Defining references\n",
    "nbr_refs_pre = [\"1 2 3 \\n\", \"1 3 2 \\n\", \"2 1 3 \\n\", \"2 3 1 \\n\", \"3 1 2 \\n\", \"3 2 1 \\n\"]\n",
    "move_refs = [\"\", \"rra\\nsa\\n\", \"sa\\n\", \"rra\\n\", \"ra\\n\", \"ra\\nsa\\n\"]\n",
    "nbr_refs_pos = [\"1 2 3\\n\", \"1 2 3\\n\", \"1 2 3\\n\", \"1 2 3\\n\", \"1 2 3\\n\", \"1 2 3\\n\"]\n",
    "\n",
    "output_ref = []\n",
    "for nbr_pre, move, nbr_pos in zip(nbr_refs_pre, move_refs, nbr_refs_pos):\n",
    "\toutput_ref.append(nbr_pre + move + nbr_pos)\n",
    "\n",
    "print(output_ref)"
   ]
  }
 ],
 "metadata": {
  "kernelspec": {
   "display_name": "Python 3",
   "language": "python",
   "name": "python3"
  },
  "language_info": {
   "codemirror_mode": {
    "name": "ipython",
    "version": 3
   },
   "file_extension": ".py",
   "mimetype": "text/x-python",
   "name": "python",
   "nbconvert_exporter": "python",
   "pygments_lexer": "ipython3",
   "version": "3.8.10"
  }
 },
 "nbformat": 4,
 "nbformat_minor": 2
}
