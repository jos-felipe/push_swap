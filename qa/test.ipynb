{
 "cells": [
  {
   "cell_type": "code",
   "execution_count": 1,
   "metadata": {},
   "outputs": [
    {
     "name": "stdout",
     "output_type": "stream",
     "text": [
      "==28203== Memcheck, a memory error detector\n",
      "==28203== Copyright (C) 2002-2017, and GNU GPL'd, by Julian Seward et al.\n",
      "==28203== Using Valgrind-3.15.0 and LibVEX; rerun with -h for copyright info\n",
      "==28203== Command: ../push_swap -1 1 0 10 -10\n",
      "==28203== \n",
      "==28203== \n",
      "==28203== HEAP SUMMARY:\n",
      "==28203==     in use at exit: 0 bytes in 0 blocks\n",
      "==28203==   total heap usage: 10 allocs, 10 frees, 200 bytes allocated\n",
      "==28203== \n",
      "==28203== All heap blocks were freed -- no leaks are possible\n",
      "==28203== \n",
      "==28203== For lists of detected and suppressed errors, rerun with: -s\n",
      "==28203== ERROR SUMMARY: 0 errors from 0 contexts (suppressed: 0 from 0)\n",
      "\n",
      "Valgrind OK!\n"
     ]
    }
   ],
   "source": [
    "import subprocess\n",
    "\n",
    "valgring = [\"valgrind\", \"--leak-check=full\", \"--show-leak-kinds=all\", \"--track-origins=yes\", \"../push_swap\", \"-1\", \"1\", \"0\", \"10\", \"-10\"]\n",
    "output = subprocess.run(valgring, stdout=subprocess.PIPE, stderr=subprocess.PIPE, text=True)\n",
    "\n",
    "\n",
    "substring = \"All heap blocks were freed -- no leaks are possible\"\n",
    "string = output.stderr\n",
    "print(string)\n",
    "\n",
    "if substring in string:\n",
    "    print(\"Valgrind OK!\")\n",
    "else:\n",
    "    print(\"Valgrind KO!\")"
   ]
  },
  {
   "cell_type": "code",
   "execution_count": 2,
   "metadata": {},
   "outputs": [
    {
     "name": "stdout",
     "output_type": "stream",
     "text": [
      "['new_string1', 'new_string2', 'new_string3', 'string1', 'string2', 'string3']\n"
     ]
    }
   ],
   "source": [
    "# Define the two lists of strings\n",
    "list1 = [\"string1\", \"string2\", \"string3\"]\n",
    "list2 = [\"new_string1\", \"new_string2\", \"new_string3\"]\n",
    "\n",
    "# Insert list2 at the beginning of list1\n",
    "list1[:0] = list2\n",
    "\n",
    "# Print the combined list\n",
    "print(list1)"
   ]
  }
 ],
 "metadata": {
  "kernelspec": {
   "display_name": "Python 3",
   "language": "python",
   "name": "python3"
  },
  "language_info": {
   "codemirror_mode": {
    "name": "ipython",
    "version": 3
   },
   "file_extension": ".py",
   "mimetype": "text/x-python",
   "name": "python",
   "nbconvert_exporter": "python",
   "pygments_lexer": "ipython3",
   "version": "3.8.10"
  }
 },
 "nbformat": 4,
 "nbformat_minor": 2
}
