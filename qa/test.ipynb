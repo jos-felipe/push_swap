{
 "cells": [
  {
   "cell_type": "code",
   "execution_count": 1,
   "metadata": {},
   "outputs": [
    {
     "name": "stdout",
     "output_type": "stream",
     "text": [
      "6 5 4 3 2 1\n",
      ": KO!\n",
      "\n",
      "rra\n",
      "1 6 5 4 3 2\n",
      ": KO!\n",
      "\n",
      "ra\n",
      "6 5 4 3 2 1\n",
      ": KO!\n",
      "\n",
      "sa\n",
      "5 6 4 3 2 1\n",
      ": KO!\n",
      "\n",
      "sa\n",
      "6 5 4 3 2 1\n",
      ": KO!\n",
      "\n",
      "pb\n",
      "pb\n",
      "pb\n",
      "pb\n",
      "pb\n",
      "pb\n",
      "1 2 3 4 5 6\n",
      ": KO!\n",
      "\n",
      "rb\n",
      "2 3 4 5 6 1\n",
      ": KO!\n",
      "\n",
      "rrb\n",
      "1 2 3 4 5 6\n",
      ": KO!\n",
      "\n",
      "sb\n",
      "2 1 3 4 5 6\n",
      ": KO!\n",
      "\n",
      "sb\n",
      "1 2 3 4 5 6\n",
      ": KO!\n",
      "\n",
      "pa\n",
      "pa\n",
      "pa\n",
      "3 2 1\n",
      "4 5 6\n",
      ": KO!\n",
      "\n",
      "rr\n",
      "2 1 3\n",
      "5 6 4\n",
      ": KO!\n",
      "\n",
      "rrr\n",
      "3 2 1\n",
      "4 5 6\n",
      ": KO!\n",
      "\n",
      "ss\n",
      "2 3 1\n",
      "5 4 6\n",
      ": KO!\n",
      "\n"
     ]
    },
    {
     "name": "stderr",
     "output_type": "stream",
     "text": [
      "Error\n"
     ]
    }
   ],
   "source": [
    "import subprocess\n",
    "\n",
    "args = [\"../push_swap\", \"6\", \"5\", \"4\", \"3\", \"2\", \"1\"]\n",
    "\n",
    "move_0 = \"6 5 4 3 2 1\\n\"\n",
    "\n",
    "move_1 = \"rra\\n1 6 5 4 3 2\\n\"\n",
    "move_2 = \"ra\\n6 5 4 3 2 1\\n\"\n",
    "move_3 = \"sa\\n5 6 4 3 2 1\\n\"\n",
    "move_4 = \"sa\\n6 5 4 3 2 1\\n\"\n",
    "\n",
    "move_5 = \"pb\\npb\\npb\\npb\\npb\\npb\\n1 2 3 4 5 6\\n\"\n",
    "\n",
    "move_6 = \"rb\\n2 3 4 5 6 1\\n\"\n",
    "move_7 = \"rrb\\n1 2 3 4 5 6\\n\"\n",
    "move_8 = \"sb\\n2 1 3 4 5 6\\n\"\n",
    "move_9 = \"sb\\n1 2 3 4 5 6\\n\"\n",
    "\n",
    "move_10 = \"pa\\npa\\npa\\n3 2 1\\n4 5 6\\n\"\n",
    "\n",
    "move_11 = \"rr\\n2 1 3\\n5 6 4\\n\"\n",
    "move_12 = \"rrr\\n3 2 1\\n4 5 6\\n\"\n",
    "move_13 = \"ss\\n2 3 1\\n5 4 6\\n\"\n",
    "\n",
    "list_of_moves = [move_0, move_1, move_2, move_3, move_4, move_5, move_6, move_7, move_8, move_9, move_10, move_11, move_12, move_13]\n",
    "\n",
    "output = subprocess.run(args, stdout=subprocess.PIPE, text=True)\n",
    "\n",
    "string_output = output.stdout\n",
    "\n",
    "for move in list_of_moves:\n",
    "\tif move in string_output:\n",
    "\t\tprint(f\"{move}: OK!\\n\")\n",
    "\telse:\n",
    "\t\tprint(f\"{move}: KO!\\n\")\n",
    "\n",
    "\n"
   ]
  },
  {
   "cell_type": "code",
   "execution_count": 6,
   "metadata": {},
   "outputs": [
    {
     "name": "stdout",
     "output_type": "stream",
     "text": [
      "['../push_swap', '6', '5', '4', '3', '2', '1']\n"
     ]
    }
   ],
   "source": [
    "arg = [\"6\", \"5\", \"4\", \"3\", \"2\", \"1\"]\n",
    "program = [\"../push_swap\"]\n",
    "cmd = program + arg\n",
    "\n",
    "print(cmd)"
   ]
  }
 ],
 "metadata": {
  "kernelspec": {
   "display_name": "Python 3",
   "language": "python",
   "name": "python3"
  },
  "language_info": {
   "codemirror_mode": {
    "name": "ipython",
    "version": 3
   },
   "file_extension": ".py",
   "mimetype": "text/x-python",
   "name": "python",
   "nbconvert_exporter": "python",
   "pygments_lexer": "ipython3",
   "version": "3.8.10"
  }
 },
 "nbformat": 4,
 "nbformat_minor": 2
}
