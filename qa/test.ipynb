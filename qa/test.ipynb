{
 "cells": [
  {
   "cell_type": "code",
   "execution_count": 12,
   "metadata": {},
   "outputs": [
    {
     "name": "stdout",
     "output_type": "stream",
     "text": [
      "OK\n",
      "\n",
      "\n",
      "ARG='2 1 0'; ../push_swap $ARG | ../checker_linux $ARG\n"
     ]
    }
   ],
   "source": [
    "import subprocess\n",
    "\n",
    "nbrs = \"'2 1 0'\"\n",
    "\n",
    "arg = f\"ARG={nbrs}; ../push_swap $ARG | ../checker_linux $ARG\"\n",
    "\n",
    "output = subprocess.run(arg, stdout=subprocess.PIPE, stderr=subprocess.PIPE, text=True, shell=True)\n",
    "\n",
    "print(output.stdout)\n",
    "print(output.stderr)"
   ]
  },
  {
   "cell_type": "code",
   "execution_count": null,
   "metadata": {},
   "outputs": [],
   "source": [
    "all_tiny_sort_args = [\"'1 3 2'\", \"'2 1 3'\", \"'2 3 1'\", \"'3 1 2'\", \"'3 2 1'\"]\n",
    "ref_list = [\"OK\\n\", \"OK\\n\", \"OK\\n\", \"OK\\n\", \"OK\\n\"]\n",
    "\n",
    "for tiny_sort_arg in all_tiny_sort_args:\n",
    "\tcmd = program + tiny_sort_arg\n",
    "\toutput = subprocess.run(cmd, stdout=subprocess.PIPE, text=True)\n",
    "\tall_outputs.append(output.stdout)\n",
    "\tcmd_val = valgrind + cmd\n",
    "\toutput_val = subprocess.run(cmd_val, stdout=subprocess.PIPE, stderr=subprocess.PIPE, text=True)\n",
    "\tall_outputs_val.append(output_val.stderr)"
   ]
  }
 ],
 "metadata": {
  "kernelspec": {
   "display_name": "Python 3",
   "language": "python",
   "name": "python3"
  },
  "language_info": {
   "codemirror_mode": {
    "name": "ipython",
    "version": 3
   },
   "file_extension": ".py",
   "mimetype": "text/x-python",
   "name": "python",
   "nbconvert_exporter": "python",
   "pygments_lexer": "ipython3",
   "version": "3.8.10"
  }
 },
 "nbformat": 4,
 "nbformat_minor": 2
}
