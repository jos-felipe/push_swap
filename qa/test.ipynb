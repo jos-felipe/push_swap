{
 "cells": [
  {
   "cell_type": "code",
   "execution_count": 2,
   "metadata": {},
   "outputs": [
    {
     "name": "stdout",
     "output_type": "stream",
     "text": [
      "pb\n",
      "pb\n",
      "pb\n",
      "pa\n",
      "rb\n",
      "pa\n",
      "rra\n",
      "rra\n",
      "pa\n",
      "rra\n",
      "rra\n",
      "\n",
      "\n",
      "11\n"
     ]
    }
   ],
   "source": [
    "import subprocess\n",
    "\n",
    "program = [\"../push_swap\"]\n",
    "arg = [\"6\", \"3\", \"1\", \"2\", \"4\", \"5\"]\n",
    "cmd = program + arg\n",
    "\n",
    "output = subprocess.run(cmd, stdout=subprocess.PIPE, stderr=subprocess.PIPE, text=True)\n",
    "print(output.stdout)\n",
    "print(output.stderr)\n",
    "\n",
    "print(output.stdout.count(\"\\n\"))"
   ]
  },
  {
   "cell_type": "code",
   "execution_count": null,
   "metadata": {},
   "outputs": [],
   "source": []
  }
 ],
 "metadata": {
  "kernelspec": {
   "display_name": "Python 3",
   "language": "python",
   "name": "python3"
  },
  "language_info": {
   "codemirror_mode": {
    "name": "ipython",
    "version": 3
   },
   "file_extension": ".py",
   "mimetype": "text/x-python",
   "name": "python",
   "nbconvert_exporter": "python",
   "pygments_lexer": "ipython3",
   "version": "3.8.10"
  }
 },
 "nbformat": 4,
 "nbformat_minor": 2
}
